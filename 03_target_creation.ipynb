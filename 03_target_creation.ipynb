{
 "cells": [
  {
   "cell_type": "markdown",
   "metadata": {},
   "source": [
    "## Creating samples -- How it works"
   ]
  },
  {
   "cell_type": "markdown",
   "metadata": {},
   "source": [
    "**We will make two segments.**\n",
    "\n",
    "List of the rappers we will put into the expirment and then a dataframe with the information that we need (artist, text).First step is to pick four random rappers and then to extract those out of the dataframe and then name the file and drop it off into the folder.\n",
    "\n",
    "We can repeat it over and over to create samples. This notebook can easily be modiified to do other expirments. The variables in cell three n_rappers and n_exp  "
   ]
  },
  {
   "cell_type": "code",
   "execution_count": 1,
   "metadata": {},
   "outputs": [],
   "source": [
    "import pandas as pd\n",
    "import numpy as np\n",
    "from sklearn.utils import shuffle\n",
    "import random\n",
    "from itertools import combinations\n",
    "import matplotlib.pyplot as plt\n",
    "from sklearn.feature_extraction import text"
   ]
  },
  {
   "cell_type": "code",
   "execution_count": null,
   "metadata": {},
   "outputs": [],
   "source": []
  },
  {
   "cell_type": "markdown",
   "metadata": {},
   "source": [
    "**Bring in the file to create the extraction list**"
   ]
  },
  {
   "cell_type": "code",
   "execution_count": 2,
   "metadata": {},
   "outputs": [],
   "source": [
    "#read in the csv, yes the df is right their but I want to make sure nothing funky happens \n",
    "pre_df=pd.read_csv('./assets/NLP_full.csv')\n",
    "#toss it around\n",
    "pre_df = shuffle(pre_df)\n",
    "rappers=pre_df['artist'].unique()\n",
    "rappers=list(rappers.flatten())\n",
    "#pushes it to numpy array and then a flat list with tuples"
   ]
  },
  {
   "cell_type": "markdown",
   "metadata": {},
   "source": [
    "**Selecting n random artists out of the dataset and making sure they are unique n number of times**"
   ]
  },
  {
   "cell_type": "code",
   "execution_count": 3,
   "metadata": {},
   "outputs": [],
   "source": [
    "#select the random n targets \n",
    "n_rappers=4\n",
    "n_exp=1\n",
    "#this will execute the combinations we want just one at time which yes is counter-intutive since later will be running\n",
    "#the script 300 times to create unique test sets\n",
    "ps_comb = combinations(rappers, n_rappers) \n",
    "ps_targets=[i for i in list(ps_comb)]\n",
    "ps_targets_indf=(random.sample(ps_targets, n_exp))\n",
    "#now stick it in a dataframe\n",
    "ps_df = pd.DataFrame(ps_targets_indf, columns =['first','second','third','fourth'])\n",
    "spacer=\", \"\n",
    "ps_df['artist_selection']=(ps_df['first']+spacer+ps_df['second']+spacer+ps_df['third']+spacer+ps_df['fourth'])"
   ]
  },
  {
   "cell_type": "markdown",
   "metadata": {},
   "source": [
    "**Check out what we have**"
   ]
  },
  {
   "cell_type": "code",
   "execution_count": 5,
   "metadata": {},
   "outputs": [
    {
     "data": {
      "text/html": [
       "<div>\n",
       "<style scoped>\n",
       "    .dataframe tbody tr th:only-of-type {\n",
       "        vertical-align: middle;\n",
       "    }\n",
       "\n",
       "    .dataframe tbody tr th {\n",
       "        vertical-align: top;\n",
       "    }\n",
       "\n",
       "    .dataframe thead th {\n",
       "        text-align: right;\n",
       "    }\n",
       "</style>\n",
       "<table border=\"1\" class=\"dataframe\">\n",
       "  <thead>\n",
       "    <tr style=\"text-align: right;\">\n",
       "      <th></th>\n",
       "      <th>first</th>\n",
       "      <th>second</th>\n",
       "      <th>third</th>\n",
       "      <th>fourth</th>\n",
       "      <th>artist_selection</th>\n",
       "    </tr>\n",
       "  </thead>\n",
       "  <tbody>\n",
       "    <tr>\n",
       "      <th>0</th>\n",
       "      <td>Eminem</td>\n",
       "      <td>J Cole</td>\n",
       "      <td>Big L</td>\n",
       "      <td>missyelliott</td>\n",
       "      <td>Eminem, J Cole, Big L, missyelliott</td>\n",
       "    </tr>\n",
       "  </tbody>\n",
       "</table>\n",
       "</div>"
      ],
      "text/plain": [
       "    first  second  third        fourth                     artist_selection\n",
       "0  Eminem  J Cole  Big L  missyelliott  Eminem, J Cole, Big L, missyelliott"
      ]
     },
     "execution_count": 5,
     "metadata": {},
     "output_type": "execute_result"
    }
   ],
   "source": [
    "ps_df.head()"
   ]
  },
  {
   "cell_type": "markdown",
   "metadata": {},
   "source": [
    "**flatten np arrays into lists --(function had weird results) kept it simple by doing it manually so we have no surprises** "
   ]
  },
  {
   "cell_type": "code",
   "execution_count": 6,
   "metadata": {},
   "outputs": [],
   "source": [
    "one=ps_df['first'].unique()\n",
    "one=list(one.flatten())\n",
    "two=ps_df['second'].unique()\n",
    "two=list(two.flatten())\n",
    "three=ps_df['third'].unique()\n",
    "three=list(three.flatten())\n",
    "four=ps_df['fourth'].unique()\n",
    "four=list(four.flatten())"
   ]
  },
  {
   "cell_type": "markdown",
   "metadata": {},
   "source": [
    "**make sure we have a unique list by making it a set**"
   ]
  },
  {
   "cell_type": "code",
   "execution_count": 7,
   "metadata": {},
   "outputs": [
    {
     "data": {
      "text/plain": [
       "['Big L', 'missyelliott', 'J Cole', 'Eminem']"
      ]
     },
     "execution_count": 7,
     "metadata": {},
     "output_type": "execute_result"
    }
   ],
   "source": [
    "checks=(set(one+two+three+four))\n",
    "checks=list(checks)\n",
    "checks"
   ]
  },
  {
   "cell_type": "markdown",
   "metadata": {},
   "source": [
    "**now lets remove our targets out of the list and prep the drop list for the dataframe we are going to bring in. quick visual confirmation says they are gone. below we will run a test to confirm that via python.**"
   ]
  },
  {
   "cell_type": "code",
   "execution_count": 8,
   "metadata": {},
   "outputs": [],
   "source": [
    "#This script gives me the difference between my two lists and provides simple list of artists to drop\n",
    "#https://www.geeksforgeeks.org/python-difference-two-lists/\n",
    "\n",
    "def diff(li1, li2):\n",
    "    return (list(list(set(li1)-set(li2)) + list(set(li2)-set(li1))))\n",
    "checks_out=diff(checks,rappers)"
   ]
  },
  {
   "cell_type": "code",
   "execution_count": 9,
   "metadata": {},
   "outputs": [
    {
     "name": "stdout",
     "output_type": "stream",
     "text": [
      "['Tyler The Creator', 'NF', 'Talib Kweli', '2pac', 'Chance The Rapper', 'Action Bronson', 'CunninLynguists', 'Deniro Farrar', 'Ice Cube', 'the notorious big', 'André 3000', 'Isaiah Rashad', 'Earl Sweatshirt', 'Drake', 'Bas', 'Common', 'Nas', 'Kendrick Lamar', 'Jay-z', 'Royce Da 59', 'Lil Wayne', 'A$AP Ant', 'A$AP Rocky', 'Lupe Fiasco', 'Childish Gambino', 'dmx', 'Joey Bada', 'Mac Miller', 'Logic', 'Montana of 300', 'Eazy-E', 'Pusha-T', 'cardib', 'Kanye West', 'Scarface', 'Immortal Technique']\n"
     ]
    }
   ],
   "source": [
    "print(checks_out)"
   ]
  },
  {
   "cell_type": "markdown",
   "metadata": {},
   "source": [
    "**Time to bring in the same dataframe and prep it.**"
   ]
  },
  {
   "cell_type": "code",
   "execution_count": 10,
   "metadata": {},
   "outputs": [
    {
     "data": {
      "text/plain": [
       "Index(['artist', 'text', 'length', 'number_words', 'expl_bool', 'total_expl',\n",
       "       'grp_1', 'grp_2', 'tb_polarity', 'tb_subjectivity', 'vader_neg',\n",
       "       'vader_neu', 'vader_pos', 'compound'],\n",
       "      dtype='object')"
      ]
     },
     "execution_count": 10,
     "metadata": {},
     "output_type": "execute_result"
    }
   ],
   "source": [
    "sel_df=pd.read_csv('./assets/NLP_full.csv')\n",
    "sel_columns=sel_df.columns\n",
    "sel_columns\n",
    "# get a visual on the columns"
   ]
  },
  {
   "cell_type": "code",
   "execution_count": 11,
   "metadata": {},
   "outputs": [
    {
     "data": {
      "text/html": [
       "<div>\n",
       "<style scoped>\n",
       "    .dataframe tbody tr th:only-of-type {\n",
       "        vertical-align: middle;\n",
       "    }\n",
       "\n",
       "    .dataframe tbody tr th {\n",
       "        vertical-align: top;\n",
       "    }\n",
       "\n",
       "    .dataframe thead th {\n",
       "        text-align: right;\n",
       "    }\n",
       "</style>\n",
       "<table border=\"1\" class=\"dataframe\">\n",
       "  <thead>\n",
       "    <tr style=\"text-align: right;\">\n",
       "      <th></th>\n",
       "      <th>artist</th>\n",
       "      <th>text</th>\n",
       "      <th>number_words</th>\n",
       "    </tr>\n",
       "  </thead>\n",
       "  <tbody>\n",
       "    <tr>\n",
       "      <th>0</th>\n",
       "      <td>A$AP Ant</td>\n",
       "      <td>Triple beam for the weight</td>\n",
       "      <td>5</td>\n",
       "    </tr>\n",
       "    <tr>\n",
       "      <th>1</th>\n",
       "      <td>A$AP Ant</td>\n",
       "      <td>Cut the middle man tryna get  white bitches</td>\n",
       "      <td>8</td>\n",
       "    </tr>\n",
       "    <tr>\n",
       "      <th>2</th>\n",
       "      <td>A$AP Ant</td>\n",
       "      <td>Snorting off the plate coke from Colombia</td>\n",
       "      <td>7</td>\n",
       "    </tr>\n",
       "    <tr>\n",
       "      <th>3</th>\n",
       "      <td>A$AP Ant</td>\n",
       "      <td>Riding round in the Benz looking like a trap star</td>\n",
       "      <td>10</td>\n",
       "    </tr>\n",
       "    <tr>\n",
       "      <th>4</th>\n",
       "      <td>A$AP Ant</td>\n",
       "      <td>Flipping raw day and night</td>\n",
       "      <td>5</td>\n",
       "    </tr>\n",
       "  </tbody>\n",
       "</table>\n",
       "</div>"
      ],
      "text/plain": [
       "     artist                                               text  number_words\n",
       "0  A$AP Ant                         Triple beam for the weight             5\n",
       "1  A$AP Ant        Cut the middle man tryna get  white bitches             8\n",
       "2  A$AP Ant          Snorting off the plate coke from Colombia             7\n",
       "3  A$AP Ant  Riding round in the Benz looking like a trap star            10\n",
       "4  A$AP Ant                         Flipping raw day and night             5"
      ]
     },
     "execution_count": 11,
     "metadata": {},
     "output_type": "execute_result"
    }
   ],
   "source": [
    "sel_df.drop(columns=['length','expl_bool', 'total_expl',\n",
    "       'grp_1', 'grp_2', 'tb_polarity', 'tb_subjectivity', 'vader_neg',\n",
    "       'vader_neu', 'vader_pos', 'compound'],inplace=True)\n",
    "sel_df.head()\n",
    "# confirm drop"
   ]
  },
  {
   "cell_type": "markdown",
   "metadata": {},
   "source": [
    "**Looking at what we are going to drop**"
   ]
  },
  {
   "cell_type": "code",
   "execution_count": 12,
   "metadata": {},
   "outputs": [
    {
     "data": {
      "text/html": [
       "<div>\n",
       "<style scoped>\n",
       "    .dataframe tbody tr th:only-of-type {\n",
       "        vertical-align: middle;\n",
       "    }\n",
       "\n",
       "    .dataframe tbody tr th {\n",
       "        vertical-align: top;\n",
       "    }\n",
       "\n",
       "    .dataframe thead th {\n",
       "        text-align: right;\n",
       "    }\n",
       "</style>\n",
       "<table border=\"1\" class=\"dataframe\">\n",
       "  <thead>\n",
       "    <tr style=\"text-align: right;\">\n",
       "      <th></th>\n",
       "      <th>artist</th>\n",
       "      <th>text</th>\n",
       "      <th>number_words</th>\n",
       "    </tr>\n",
       "  </thead>\n",
       "  <tbody>\n",
       "    <tr>\n",
       "      <th>56734</th>\n",
       "      <td>J Cole</td>\n",
       "      <td>Has been a little burnt out were tired</td>\n",
       "      <td>8</td>\n",
       "    </tr>\n",
       "    <tr>\n",
       "      <th>12113</th>\n",
       "      <td>Big L</td>\n",
       "      <td>Blue and whites ride by and niggas yell  Fuck ...</td>\n",
       "      <td>11</td>\n",
       "    </tr>\n",
       "    <tr>\n",
       "      <th>54896</th>\n",
       "      <td>J Cole</td>\n",
       "      <td>In fact I just might need two cause niggas say...</td>\n",
       "      <td>13</td>\n",
       "    </tr>\n",
       "    <tr>\n",
       "      <th>44170</th>\n",
       "      <td>Eminem</td>\n",
       "      <td>Dont I give you enough of my time</td>\n",
       "      <td>8</td>\n",
       "    </tr>\n",
       "    <tr>\n",
       "      <th>11502</th>\n",
       "      <td>Big L</td>\n",
       "      <td>I rob for meat If I dont steal I dont eat</td>\n",
       "      <td>11</td>\n",
       "    </tr>\n",
       "  </tbody>\n",
       "</table>\n",
       "</div>"
      ],
      "text/plain": [
       "       artist                                               text  number_words\n",
       "56734  J Cole             Has been a little burnt out were tired             8\n",
       "12113   Big L  Blue and whites ride by and niggas yell  Fuck ...            11\n",
       "54896  J Cole  In fact I just might need two cause niggas say...            13\n",
       "44170  Eminem                 Dont I give you enough of my time              8\n",
       "11502   Big L          I rob for meat If I dont steal I dont eat            11"
      ]
     },
     "execution_count": 12,
     "metadata": {},
     "output_type": "execute_result"
    }
   ],
   "source": [
    "for each in checks_out:\n",
    "    sel_df.drop(sel_df[sel_df.artist==each].index, inplace=True)\n",
    "sel_df.sample(5)"
   ]
  },
  {
   "cell_type": "markdown",
   "metadata": {},
   "source": [
    "**Confirming with python that our current data from matchs the check above:**\n",
    "\n",
    "If the output on the second cell says \"True\" then we are good to go."
   ]
  },
  {
   "cell_type": "code",
   "execution_count": 13,
   "metadata": {},
   "outputs": [],
   "source": [
    "trip_check=sel_df.artist.unique()\n",
    "trip_check=list(trip_check.flatten())\n",
    "#when you triple check something it means you really don't want to screw up lol"
   ]
  },
  {
   "cell_type": "code",
   "execution_count": 14,
   "metadata": {},
   "outputs": [
    {
     "name": "stdout",
     "output_type": "stream",
     "text": [
      "are we good to move on? True\n"
     ]
    }
   ],
   "source": [
    "print(f'are we good to move on? {set(checks)==set(trip_check)}')"
   ]
  },
  {
   "cell_type": "markdown",
   "metadata": {},
   "source": [
    "**Use the artists to make a unique name for the file**"
   ]
  },
  {
   "cell_type": "code",
   "execution_count": 15,
   "metadata": {},
   "outputs": [],
   "source": [
    "name_file=str(sel_df.artist.unique().flatten())"
   ]
  },
  {
   "cell_type": "code",
   "execution_count": 16,
   "metadata": {},
   "outputs": [
    {
     "data": {
      "text/plain": [
       "'BigLEminemJColemissyelliott'"
      ]
     },
     "execution_count": 16,
     "metadata": {},
     "output_type": "execute_result"
    }
   ],
   "source": [
    "name_file=''.join(each for each in name_file if each.isalnum())\n",
    "name_file"
   ]
  },
  {
   "cell_type": "code",
   "execution_count": 17,
   "metadata": {},
   "outputs": [],
   "source": [
    "name_file=name_file +'.csv'\n",
    "name_file=\"./data/\"+name_file"
   ]
  },
  {
   "cell_type": "code",
   "execution_count": 18,
   "metadata": {},
   "outputs": [
    {
     "data": {
      "text/html": [
       "<div>\n",
       "<style scoped>\n",
       "    .dataframe tbody tr th:only-of-type {\n",
       "        vertical-align: middle;\n",
       "    }\n",
       "\n",
       "    .dataframe tbody tr th {\n",
       "        vertical-align: top;\n",
       "    }\n",
       "\n",
       "    .dataframe thead th {\n",
       "        text-align: right;\n",
       "    }\n",
       "</style>\n",
       "<table border=\"1\" class=\"dataframe\">\n",
       "  <thead>\n",
       "    <tr style=\"text-align: right;\">\n",
       "      <th></th>\n",
       "      <th>artist</th>\n",
       "      <th>text</th>\n",
       "    </tr>\n",
       "  </thead>\n",
       "  <tbody>\n",
       "    <tr>\n",
       "      <th>9862</th>\n",
       "      <td>Big L</td>\n",
       "      <td>Yo I got slugs for snitches no love for bitches</td>\n",
       "    </tr>\n",
       "    <tr>\n",
       "      <th>9863</th>\n",
       "      <td>Big L</td>\n",
       "      <td>Puttin thugs in ditches when my trigger finger...</td>\n",
       "    </tr>\n",
       "    <tr>\n",
       "      <th>9864</th>\n",
       "      <td>Big L</td>\n",
       "      <td>I got a rep that make police jet known to get ...</td>\n",
       "    </tr>\n",
       "    <tr>\n",
       "      <th>9865</th>\n",
       "      <td>Big L</td>\n",
       "      <td>I never beg for pussy like Keith Sweat</td>\n",
       "    </tr>\n",
       "    <tr>\n",
       "      <th>9866</th>\n",
       "      <td>Big L</td>\n",
       "      <td>Bitches get fucked on the roof when I aint got...</td>\n",
       "    </tr>\n",
       "    <tr>\n",
       "      <th>...</th>\n",
       "      <td>...</td>\n",
       "      <td>...</td>\n",
       "    </tr>\n",
       "    <tr>\n",
       "      <th>125214</th>\n",
       "      <td>missyelliott</td>\n",
       "      <td>im so faded no exaggeration  what  backs brea...</td>\n",
       "    </tr>\n",
       "    <tr>\n",
       "      <th>125215</th>\n",
       "      <td>missyelliott</td>\n",
       "      <td>shorty what the dance that you doing is dumb ...</td>\n",
       "    </tr>\n",
       "    <tr>\n",
       "      <th>125216</th>\n",
       "      <td>missyelliott</td>\n",
       "      <td>i come into this bitch like liquid drip drip ...</td>\n",
       "    </tr>\n",
       "    <tr>\n",
       "      <th>125217</th>\n",
       "      <td>missyelliott</td>\n",
       "      <td>im like kak a rak a rak rak a rak a rak make ...</td>\n",
       "    </tr>\n",
       "    <tr>\n",
       "      <th>125218</th>\n",
       "      <td>missyelliott</td>\n",
       "      <td>shawty what how they do it where you from  tr...</td>\n",
       "    </tr>\n",
       "  </tbody>\n",
       "</table>\n",
       "<p>13843 rows × 2 columns</p>\n",
       "</div>"
      ],
      "text/plain": [
       "              artist                                               text\n",
       "9862           Big L    Yo I got slugs for snitches no love for bitches\n",
       "9863           Big L  Puttin thugs in ditches when my trigger finger...\n",
       "9864           Big L  I got a rep that make police jet known to get ...\n",
       "9865           Big L             I never beg for pussy like Keith Sweat\n",
       "9866           Big L  Bitches get fucked on the roof when I aint got...\n",
       "...              ...                                                ...\n",
       "125214  missyelliott   im so faded no exaggeration  what  backs brea...\n",
       "125215  missyelliott   shorty what the dance that you doing is dumb ...\n",
       "125216  missyelliott   i come into this bitch like liquid drip drip ...\n",
       "125217  missyelliott   im like kak a rak a rak rak a rak a rak make ...\n",
       "125218  missyelliott   shawty what how they do it where you from  tr...\n",
       "\n",
       "[13843 rows x 2 columns]"
      ]
     },
     "execution_count": 18,
     "metadata": {},
     "output_type": "execute_result"
    }
   ],
   "source": [
    "sel_df.drop(columns='number_words')"
   ]
  },
  {
   "cell_type": "code",
   "execution_count": 6,
   "metadata": {},
   "outputs": [],
   "source": [
    "sel_df.to_csv(name_file)\n",
    "#I always forget to get rid of the index "
   ]
  },
  {
   "cell_type": "code",
   "execution_count": 3,
   "metadata": {},
   "outputs": [
    {
     "data": {
      "image/png": "[encoded data removed]",
      "text/plain": [
       "<Figure size 360x360 with 1 Axes>"
      ]
     },
     "metadata": {
      "needs_background": "light"
     },
     "output_type": "display_data"
    }
   ],
   "source": [
    "sel_df.artist.value_counts().plot(kind='bar',figsize=(5, 5), label=\"nulls\");"
   ]
  },
  {
   "cell_type": "markdown",
   "metadata": {},
   "source": [
    "We will now turn it into a PY file and then run it a few hundred times. The PY file version of this notebook will be very much like this."
   ]
  },
  {
   "cell_type": "markdown",
   "metadata": {},
   "source": [
    "## Becareful with this code it will literary run your script 300 times."
   ]
  },
  {
   "cell_type": "code",
   "execution_count": 17,
   "metadata": {},
   "outputs": [],
   "source": [
    "for x in range(0, 100):\n",
    "    %run -i \"create_target.py\""
   ]
  },
  {
   "cell_type": "code",
   "execution_count": 18,
   "metadata": {},
   "outputs": [
    {
     "name": "stdout",
     "output_type": "stream",
     "text": [
      "run again\n"
     ]
    }
   ],
   "source": [
    "print('run again')"
   ]
  },
  {
   "cell_type": "code",
   "execution_count": null,
   "metadata": {},
   "outputs": [],
   "source": []
  },
  {
   "cell_type": "code",
   "execution_count": null,
   "metadata": {},
   "outputs": [],
   "source": []
  },
  {
   "cell_type": "code",
   "execution_count": null,
   "metadata": {},
   "outputs": [],
   "source": []
  },
  {
   "cell_type": "code",
   "execution_count": null,
   "metadata": {},
   "outputs": [],
   "source": []
  },
  {
   "cell_type": "code",
   "execution_count": null,
   "metadata": {},
   "outputs": [],
   "source": []
  },
  {
   "cell_type": "code",
   "execution_count": null,
   "metadata": {},
   "outputs": [],
   "source": []
  }
 ],
 "metadata": {
  "kernelspec": {
   "display_name": "Python 3",
   "language": "python",
   "name": "python3"
  },
  "language_info": {
   "codemirror_mode": {
    "name": "ipython",
    "version": 3
   },
   "file_extension": ".py",
   "mimetype": "text/x-python",
   "name": "python",
   "nbconvert_exporter": "python",
   "pygments_lexer": "ipython3",
   "version": "3.8.5"
  }
 },
 "nbformat": 4,
 "nbformat_minor": 4
}
