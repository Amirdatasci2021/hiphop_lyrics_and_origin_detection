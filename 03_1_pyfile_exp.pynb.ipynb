{
 "cells": [
  {
   "cell_type": "code",
   "execution_count": 1,
   "metadata": {},
   "outputs": [],
   "source": [
    "import pandas as pd\n",
    "import numpy as np\n",
    "from sklearn.utils import shuffle\n",
    "import random\n",
    "from itertools import combinations\n",
    "import matplotlib.pyplot as plt\n",
    "from sklearn.feature_extraction import text"
   ]
  },
  {
   "cell_type": "code",
   "execution_count": 2,
   "metadata": {},
   "outputs": [],
   "source": [
    "#read in the csv, yes the df is right their but I want to make sure nothing funky happens \n",
    "pre_df=pd.read_csv('./assets/NLP_full.csv')\n",
    "#toss it around\n",
    "pre_df = shuffle(pre_df)\n",
    "rappers=pre_df['artist'].unique()\n",
    "rappers=list(rappers.flatten())\n",
    "#pushes it to numpy array and then a flat list with tuples"
   ]
  },
  {
   "cell_type": "code",
   "execution_count": 3,
   "metadata": {},
   "outputs": [],
   "source": [
    "#select the random n targets \n",
    "n_rappers=4\n",
    "n_exp=1\n",
    "#this will execute the combinations we want just one at time which yes is counter-intutive since later will be running\n",
    "#the script 300 times to create unique test sets\n",
    "ps_comb = combinations(rappers, n_rappers) \n",
    "ps_targets=[i for i in list(ps_comb)]\n",
    "ps_targets_indf=(random.sample(ps_targets, n_exp))\n",
    "#now stick it in a dataframe\n",
    "ps_df = pd.DataFrame(ps_targets_indf, columns =['first','second','third','fourth'])\n",
    "spacer=\", \"\n",
    "ps_df['artist_selection']=(ps_df['first']+spacer+ps_df['second']+spacer+ps_df['third']+spacer+ps_df['fourth'])"
   ]
  },
  {
   "cell_type": "code",
   "execution_count": 4,
   "metadata": {},
   "outputs": [],
   "source": [
    "one=ps_df['first'].unique()\n",
    "one=list(one.flatten())\n",
    "two=ps_df['second'].unique()\n",
    "two=list(two.flatten())\n",
    "three=ps_df['third'].unique()\n",
    "three=list(three.flatten())\n",
    "four=ps_df['fourth'].unique()\n",
    "four=list(four.flatten())"
   ]
  },
  {
   "cell_type": "code",
   "execution_count": 5,
   "metadata": {},
   "outputs": [],
   "source": [
    "checks=(set(one+two+three+four))\n",
    "checks=list(checks)"
   ]
  },
  {
   "cell_type": "code",
   "execution_count": 6,
   "metadata": {},
   "outputs": [],
   "source": [
    "#This script gives me the difference between my two lists and provides simple list of artists to drop\n",
    "#https://www.geeksforgeeks.org/python-difference-two-lists/\n",
    "\n",
    "def diff(li1, li2):\n",
    "    return (list(list(set(li1)-set(li2)) + list(set(li2)-set(li1))))\n",
    "checks_out=diff(checks,rappers)"
   ]
  },
  {
   "cell_type": "code",
   "execution_count": 7,
   "metadata": {},
   "outputs": [],
   "source": [
    "sel_df=pd.read_csv('./assets/NLP_full.csv')\n",
    "sel_columns=sel_df.columns"
   ]
  },
  {
   "cell_type": "code",
   "execution_count": 8,
   "metadata": {},
   "outputs": [],
   "source": [
    "sel_df.drop(columns=['length','expl_bool', 'total_expl',\n",
    "       'grp_1', 'grp_2', 'tb_polarity', 'tb_subjectivity', 'vader_neg',\n",
    "       'vader_neu', 'vader_pos', 'compound'],inplace=True)"
   ]
  },
  {
   "cell_type": "code",
   "execution_count": 9,
   "metadata": {},
   "outputs": [],
   "source": [
    "for each in checks_out:\n",
    "    sel_df.drop(sel_df[sel_df.artist==each].index, inplace=True)"
   ]
  },
  {
   "cell_type": "code",
   "execution_count": 10,
   "metadata": {},
   "outputs": [],
   "source": [
    "trip_check=sel_df.artist.unique()\n",
    "trip_check=list(trip_check.flatten())\n",
    "#when you triple check something it means you really don't want to screw up lol"
   ]
  },
  {
   "cell_type": "code",
   "execution_count": 11,
   "metadata": {},
   "outputs": [],
   "source": [
    "name_file=str(sel_df.artist.unique().flatten())"
   ]
  },
  {
   "cell_type": "code",
   "execution_count": 12,
   "metadata": {},
   "outputs": [],
   "source": [
    "name_file=''.join(each for each in name_file if each.isalnum())"
   ]
  },
  {
   "cell_type": "code",
   "execution_count": 13,
   "metadata": {},
   "outputs": [],
   "source": [
    "name_file=name_file +'.csv'\n",
    "name_file=\"./data/\"+name_file"
   ]
  },
  {
   "cell_type": "code",
   "execution_count": 14,
   "metadata": {},
   "outputs": [],
   "source": [
    "sel_df.drop(columns='number_words',inplace=True)"
   ]
  },
  {
   "cell_type": "code",
   "execution_count": 15,
   "metadata": {},
   "outputs": [],
   "source": [
    "sel_df.to_csv(name_file)\n",
    "#I always forget to get rid of the index "
   ]
  },
  {
   "cell_type": "code",
   "execution_count": null,
   "metadata": {},
   "outputs": [],
   "source": []
  },
  {
   "cell_type": "markdown",
   "metadata": {},
   "source": [
    "\n"
   ]
  },
  {
   "cell_type": "code",
   "execution_count": null,
   "metadata": {},
   "outputs": [],
   "source": []
  },
  {
   "cell_type": "code",
   "execution_count": null,
   "metadata": {},
   "outputs": [],
   "source": []
  },
  {
   "cell_type": "code",
   "execution_count": null,
   "metadata": {},
   "outputs": [],
   "source": []
  },
  {
   "cell_type": "code",
   "execution_count": null,
   "metadata": {},
   "outputs": [],
   "source": []
  },
  {
   "cell_type": "code",
   "execution_count": null,
   "metadata": {},
   "outputs": [],
   "source": []
  },
  {
   "cell_type": "code",
   "execution_count": null,
   "metadata": {},
   "outputs": [],
   "source": []
  },
  {
   "cell_type": "code",
   "execution_count": null,
   "metadata": {},
   "outputs": [],
   "source": []
  }
 ],
 "metadata": {
  "kernelspec": {
   "display_name": "Python 3",
   "language": "python",
   "name": "python3"
  },
  "language_info": {
   "codemirror_mode": {
    "name": "ipython",
    "version": 3
   },
   "file_extension": ".py",
   "mimetype": "text/x-python",
   "name": "python",
   "nbconvert_exporter": "python",
   "pygments_lexer": "ipython3",
   "version": "3.8.5"
  }
 },
 "nbformat": 4,
 "nbformat_minor": 4
}
